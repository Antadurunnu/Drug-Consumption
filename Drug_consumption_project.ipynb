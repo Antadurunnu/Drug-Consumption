{
 "cells": [
  {
   "cell_type": "markdown",
   "id": "4cec7e4c",
   "metadata": {},
   "source": [
    "Importing necessary Modules"
   ]
  },
  {
   "cell_type": "code",
   "execution_count": 29,
   "id": "f77b34cf",
   "metadata": {},
   "outputs": [],
   "source": [
    "import pandas as pd\n",
    "import numpy as np\n",
    "from sklearn.tree import DecisionTreeClassifier\n",
    "from sklearn.model_selection import train_test_split\n",
    "from sklearn.datasets import make_hastie_10_2           # make_hastie_10_2 generates a data set for binary classification \n",
    "import matplotlib.pyplot as plt\n",
    "import seaborn as sns\n",
    "%matplotlib inline\n",
    "plt.rcParams[\"patch.force_edgecolor\"] = True\n",
    "\n",
    "RSEED = 42"
   ]
  },
  {
   "cell_type": "code",
   "execution_count": 30,
   "id": "eec7e54e",
   "metadata": {},
   "outputs": [],
   "source": [
    "df = pd.read_excel(\"data/drug_consumption.xls\")"
   ]
  },
  {
   "cell_type": "markdown",
   "id": "bbbd27e7",
   "metadata": {},
   "source": [
    "Getting to know the Data"
   ]
  },
  {
   "cell_type": "code",
   "execution_count": 31,
   "id": "6e949bd1",
   "metadata": {},
   "outputs": [
    {
     "name": "stdout",
     "output_type": "stream",
     "text": [
      "<class 'pandas.core.frame.DataFrame'>\n",
      "RangeIndex: 1885 entries, 0 to 1884\n",
      "Data columns (total 32 columns):\n",
      " #   Column     Non-Null Count  Dtype  \n",
      "---  ------     --------------  -----  \n",
      " 0   ID         1885 non-null   int64  \n",
      " 1   Age        1885 non-null   float64\n",
      " 2   Gender     1885 non-null   float64\n",
      " 3   Education  1885 non-null   float64\n",
      " 4   Country    1885 non-null   float64\n",
      " 5   Ethnicity  1885 non-null   float64\n",
      " 6   Nscore     1885 non-null   float64\n",
      " 7   Escore     1885 non-null   float64\n",
      " 8   Oscore     1885 non-null   float64\n",
      " 9   Ascore     1885 non-null   float64\n",
      " 10  Cscore     1885 non-null   float64\n",
      " 11  Impulsive  1885 non-null   float64\n",
      " 12  SS         1885 non-null   float64\n",
      " 13  Alcohol    1885 non-null   object \n",
      " 14  Amphet     1885 non-null   object \n",
      " 15  Amyl       1885 non-null   object \n",
      " 16  Benzos     1885 non-null   object \n",
      " 17  Caff       1885 non-null   object \n",
      " 18  Cannabis   1885 non-null   object \n",
      " 19  Choc       1885 non-null   object \n",
      " 20  Coke       1885 non-null   object \n",
      " 21  Crack      1885 non-null   object \n",
      " 22  Ecstasy    1885 non-null   object \n",
      " 23  Heroin     1885 non-null   object \n",
      " 24  Ketamine   1885 non-null   object \n",
      " 25  Legalh     1885 non-null   object \n",
      " 26  LSD        1885 non-null   object \n",
      " 27  Meth       1885 non-null   object \n",
      " 28  Shrooms    1885 non-null   object \n",
      " 29  Nicotine   1885 non-null   object \n",
      " 30  Semer      1885 non-null   object \n",
      " 31  VSA        1885 non-null   object \n",
      "dtypes: float64(12), int64(1), object(19)\n",
      "memory usage: 471.4+ KB\n"
     ]
    }
   ],
   "source": [
    "df.info()"
   ]
  },
  {
   "cell_type": "code",
   "execution_count": 32,
   "id": "79a26e72",
   "metadata": {},
   "outputs": [
    {
     "data": {
      "text/html": [
       "<div>\n",
       "<style scoped>\n",
       "    .dataframe tbody tr th:only-of-type {\n",
       "        vertical-align: middle;\n",
       "    }\n",
       "\n",
       "    .dataframe tbody tr th {\n",
       "        vertical-align: top;\n",
       "    }\n",
       "\n",
       "    .dataframe thead th {\n",
       "        text-align: right;\n",
       "    }\n",
       "</style>\n",
       "<table border=\"1\" class=\"dataframe\">\n",
       "  <thead>\n",
       "    <tr style=\"text-align: right;\">\n",
       "      <th></th>\n",
       "      <th>ID</th>\n",
       "      <th>Age</th>\n",
       "      <th>Gender</th>\n",
       "      <th>Education</th>\n",
       "      <th>Country</th>\n",
       "      <th>Ethnicity</th>\n",
       "      <th>Nscore</th>\n",
       "      <th>Escore</th>\n",
       "      <th>Oscore</th>\n",
       "      <th>Ascore</th>\n",
       "      <th>...</th>\n",
       "      <th>Ecstasy</th>\n",
       "      <th>Heroin</th>\n",
       "      <th>Ketamine</th>\n",
       "      <th>Legalh</th>\n",
       "      <th>LSD</th>\n",
       "      <th>Meth</th>\n",
       "      <th>Shrooms</th>\n",
       "      <th>Nicotine</th>\n",
       "      <th>Semer</th>\n",
       "      <th>VSA</th>\n",
       "    </tr>\n",
       "  </thead>\n",
       "  <tbody>\n",
       "    <tr>\n",
       "      <th>0</th>\n",
       "      <td>1</td>\n",
       "      <td>0.49788</td>\n",
       "      <td>0.48246</td>\n",
       "      <td>-0.05921</td>\n",
       "      <td>0.96082</td>\n",
       "      <td>0.12600</td>\n",
       "      <td>0.31287</td>\n",
       "      <td>-0.57545</td>\n",
       "      <td>-0.58331</td>\n",
       "      <td>-0.91699</td>\n",
       "      <td>...</td>\n",
       "      <td>CL0</td>\n",
       "      <td>CL0</td>\n",
       "      <td>CL0</td>\n",
       "      <td>CL0</td>\n",
       "      <td>CL0</td>\n",
       "      <td>CL0</td>\n",
       "      <td>CL0</td>\n",
       "      <td>CL2</td>\n",
       "      <td>CL0</td>\n",
       "      <td>CL0</td>\n",
       "    </tr>\n",
       "    <tr>\n",
       "      <th>1</th>\n",
       "      <td>2</td>\n",
       "      <td>-0.07854</td>\n",
       "      <td>-0.48246</td>\n",
       "      <td>1.98437</td>\n",
       "      <td>0.96082</td>\n",
       "      <td>-0.31685</td>\n",
       "      <td>-0.67825</td>\n",
       "      <td>1.93886</td>\n",
       "      <td>1.43533</td>\n",
       "      <td>0.76096</td>\n",
       "      <td>...</td>\n",
       "      <td>CL4</td>\n",
       "      <td>CL0</td>\n",
       "      <td>CL2</td>\n",
       "      <td>CL0</td>\n",
       "      <td>CL2</td>\n",
       "      <td>CL3</td>\n",
       "      <td>CL0</td>\n",
       "      <td>CL4</td>\n",
       "      <td>CL0</td>\n",
       "      <td>CL0</td>\n",
       "    </tr>\n",
       "    <tr>\n",
       "      <th>2</th>\n",
       "      <td>3</td>\n",
       "      <td>0.49788</td>\n",
       "      <td>-0.48246</td>\n",
       "      <td>-0.05921</td>\n",
       "      <td>0.96082</td>\n",
       "      <td>-0.31685</td>\n",
       "      <td>-0.46725</td>\n",
       "      <td>0.80523</td>\n",
       "      <td>-0.84732</td>\n",
       "      <td>-1.62090</td>\n",
       "      <td>...</td>\n",
       "      <td>CL0</td>\n",
       "      <td>CL0</td>\n",
       "      <td>CL0</td>\n",
       "      <td>CL0</td>\n",
       "      <td>CL0</td>\n",
       "      <td>CL0</td>\n",
       "      <td>CL1</td>\n",
       "      <td>CL0</td>\n",
       "      <td>CL0</td>\n",
       "      <td>CL0</td>\n",
       "    </tr>\n",
       "    <tr>\n",
       "      <th>3</th>\n",
       "      <td>4</td>\n",
       "      <td>-0.95197</td>\n",
       "      <td>0.48246</td>\n",
       "      <td>1.16365</td>\n",
       "      <td>0.96082</td>\n",
       "      <td>-0.31685</td>\n",
       "      <td>-0.14882</td>\n",
       "      <td>-0.80615</td>\n",
       "      <td>-0.01928</td>\n",
       "      <td>0.59042</td>\n",
       "      <td>...</td>\n",
       "      <td>CL0</td>\n",
       "      <td>CL0</td>\n",
       "      <td>CL2</td>\n",
       "      <td>CL0</td>\n",
       "      <td>CL0</td>\n",
       "      <td>CL0</td>\n",
       "      <td>CL0</td>\n",
       "      <td>CL2</td>\n",
       "      <td>CL0</td>\n",
       "      <td>CL0</td>\n",
       "    </tr>\n",
       "    <tr>\n",
       "      <th>4</th>\n",
       "      <td>5</td>\n",
       "      <td>0.49788</td>\n",
       "      <td>0.48246</td>\n",
       "      <td>1.98437</td>\n",
       "      <td>0.96082</td>\n",
       "      <td>-0.31685</td>\n",
       "      <td>0.73545</td>\n",
       "      <td>-1.63340</td>\n",
       "      <td>-0.45174</td>\n",
       "      <td>-0.30172</td>\n",
       "      <td>...</td>\n",
       "      <td>CL1</td>\n",
       "      <td>CL0</td>\n",
       "      <td>CL0</td>\n",
       "      <td>CL1</td>\n",
       "      <td>CL0</td>\n",
       "      <td>CL0</td>\n",
       "      <td>CL2</td>\n",
       "      <td>CL2</td>\n",
       "      <td>CL0</td>\n",
       "      <td>CL0</td>\n",
       "    </tr>\n",
       "    <tr>\n",
       "      <th>5</th>\n",
       "      <td>6</td>\n",
       "      <td>2.59171</td>\n",
       "      <td>0.48246</td>\n",
       "      <td>-1.22751</td>\n",
       "      <td>0.24923</td>\n",
       "      <td>-0.31685</td>\n",
       "      <td>-0.67825</td>\n",
       "      <td>-0.30033</td>\n",
       "      <td>-1.55521</td>\n",
       "      <td>2.03972</td>\n",
       "      <td>...</td>\n",
       "      <td>CL0</td>\n",
       "      <td>CL0</td>\n",
       "      <td>CL0</td>\n",
       "      <td>CL0</td>\n",
       "      <td>CL0</td>\n",
       "      <td>CL0</td>\n",
       "      <td>CL0</td>\n",
       "      <td>CL6</td>\n",
       "      <td>CL0</td>\n",
       "      <td>CL0</td>\n",
       "    </tr>\n",
       "    <tr>\n",
       "      <th>6</th>\n",
       "      <td>7</td>\n",
       "      <td>1.09449</td>\n",
       "      <td>-0.48246</td>\n",
       "      <td>1.16365</td>\n",
       "      <td>-0.57009</td>\n",
       "      <td>-0.31685</td>\n",
       "      <td>-0.46725</td>\n",
       "      <td>-1.09207</td>\n",
       "      <td>-0.45174</td>\n",
       "      <td>-0.30172</td>\n",
       "      <td>...</td>\n",
       "      <td>CL0</td>\n",
       "      <td>CL0</td>\n",
       "      <td>CL0</td>\n",
       "      <td>CL0</td>\n",
       "      <td>CL0</td>\n",
       "      <td>CL0</td>\n",
       "      <td>CL0</td>\n",
       "      <td>CL6</td>\n",
       "      <td>CL0</td>\n",
       "      <td>CL0</td>\n",
       "    </tr>\n",
       "    <tr>\n",
       "      <th>7</th>\n",
       "      <td>8</td>\n",
       "      <td>0.49788</td>\n",
       "      <td>-0.48246</td>\n",
       "      <td>-1.73790</td>\n",
       "      <td>0.96082</td>\n",
       "      <td>-0.31685</td>\n",
       "      <td>-1.32828</td>\n",
       "      <td>1.93886</td>\n",
       "      <td>-0.84732</td>\n",
       "      <td>-0.30172</td>\n",
       "      <td>...</td>\n",
       "      <td>CL0</td>\n",
       "      <td>CL0</td>\n",
       "      <td>CL0</td>\n",
       "      <td>CL0</td>\n",
       "      <td>CL0</td>\n",
       "      <td>CL0</td>\n",
       "      <td>CL0</td>\n",
       "      <td>CL0</td>\n",
       "      <td>CL0</td>\n",
       "      <td>CL0</td>\n",
       "    </tr>\n",
       "    <tr>\n",
       "      <th>8</th>\n",
       "      <td>9</td>\n",
       "      <td>0.49788</td>\n",
       "      <td>0.48246</td>\n",
       "      <td>-0.05921</td>\n",
       "      <td>0.24923</td>\n",
       "      <td>-0.31685</td>\n",
       "      <td>0.62967</td>\n",
       "      <td>2.57309</td>\n",
       "      <td>-0.97631</td>\n",
       "      <td>0.76096</td>\n",
       "      <td>...</td>\n",
       "      <td>CL0</td>\n",
       "      <td>CL0</td>\n",
       "      <td>CL0</td>\n",
       "      <td>CL0</td>\n",
       "      <td>CL0</td>\n",
       "      <td>CL0</td>\n",
       "      <td>CL0</td>\n",
       "      <td>CL6</td>\n",
       "      <td>CL0</td>\n",
       "      <td>CL0</td>\n",
       "    </tr>\n",
       "    <tr>\n",
       "      <th>9</th>\n",
       "      <td>10</td>\n",
       "      <td>1.82213</td>\n",
       "      <td>-0.48246</td>\n",
       "      <td>1.16365</td>\n",
       "      <td>0.96082</td>\n",
       "      <td>-0.31685</td>\n",
       "      <td>-0.24649</td>\n",
       "      <td>0.00332</td>\n",
       "      <td>-1.42424</td>\n",
       "      <td>0.59042</td>\n",
       "      <td>...</td>\n",
       "      <td>CL0</td>\n",
       "      <td>CL0</td>\n",
       "      <td>CL0</td>\n",
       "      <td>CL0</td>\n",
       "      <td>CL0</td>\n",
       "      <td>CL0</td>\n",
       "      <td>CL0</td>\n",
       "      <td>CL6</td>\n",
       "      <td>CL0</td>\n",
       "      <td>CL0</td>\n",
       "    </tr>\n",
       "  </tbody>\n",
       "</table>\n",
       "<p>10 rows × 32 columns</p>\n",
       "</div>"
      ],
      "text/plain": [
       "   ID      Age   Gender  Education  Country  Ethnicity   Nscore   Escore  \\\n",
       "0   1  0.49788  0.48246   -0.05921  0.96082    0.12600  0.31287 -0.57545   \n",
       "1   2 -0.07854 -0.48246    1.98437  0.96082   -0.31685 -0.67825  1.93886   \n",
       "2   3  0.49788 -0.48246   -0.05921  0.96082   -0.31685 -0.46725  0.80523   \n",
       "3   4 -0.95197  0.48246    1.16365  0.96082   -0.31685 -0.14882 -0.80615   \n",
       "4   5  0.49788  0.48246    1.98437  0.96082   -0.31685  0.73545 -1.63340   \n",
       "5   6  2.59171  0.48246   -1.22751  0.24923   -0.31685 -0.67825 -0.30033   \n",
       "6   7  1.09449 -0.48246    1.16365 -0.57009   -0.31685 -0.46725 -1.09207   \n",
       "7   8  0.49788 -0.48246   -1.73790  0.96082   -0.31685 -1.32828  1.93886   \n",
       "8   9  0.49788  0.48246   -0.05921  0.24923   -0.31685  0.62967  2.57309   \n",
       "9  10  1.82213 -0.48246    1.16365  0.96082   -0.31685 -0.24649  0.00332   \n",
       "\n",
       "    Oscore   Ascore  ...  Ecstasy  Heroin  Ketamine Legalh  LSD Meth Shrooms  \\\n",
       "0 -0.58331 -0.91699  ...      CL0     CL0       CL0    CL0  CL0  CL0     CL0   \n",
       "1  1.43533  0.76096  ...      CL4     CL0       CL2    CL0  CL2  CL3     CL0   \n",
       "2 -0.84732 -1.62090  ...      CL0     CL0       CL0    CL0  CL0  CL0     CL1   \n",
       "3 -0.01928  0.59042  ...      CL0     CL0       CL2    CL0  CL0  CL0     CL0   \n",
       "4 -0.45174 -0.30172  ...      CL1     CL0       CL0    CL1  CL0  CL0     CL2   \n",
       "5 -1.55521  2.03972  ...      CL0     CL0       CL0    CL0  CL0  CL0     CL0   \n",
       "6 -0.45174 -0.30172  ...      CL0     CL0       CL0    CL0  CL0  CL0     CL0   \n",
       "7 -0.84732 -0.30172  ...      CL0     CL0       CL0    CL0  CL0  CL0     CL0   \n",
       "8 -0.97631  0.76096  ...      CL0     CL0       CL0    CL0  CL0  CL0     CL0   \n",
       "9 -1.42424  0.59042  ...      CL0     CL0       CL0    CL0  CL0  CL0     CL0   \n",
       "\n",
       "  Nicotine Semer  VSA  \n",
       "0      CL2   CL0  CL0  \n",
       "1      CL4   CL0  CL0  \n",
       "2      CL0   CL0  CL0  \n",
       "3      CL2   CL0  CL0  \n",
       "4      CL2   CL0  CL0  \n",
       "5      CL6   CL0  CL0  \n",
       "6      CL6   CL0  CL0  \n",
       "7      CL0   CL0  CL0  \n",
       "8      CL6   CL0  CL0  \n",
       "9      CL6   CL0  CL0  \n",
       "\n",
       "[10 rows x 32 columns]"
      ]
     },
     "execution_count": 32,
     "metadata": {},
     "output_type": "execute_result"
    }
   ],
   "source": [
    "df.head(10)"
   ]
  },
  {
   "cell_type": "code",
   "execution_count": 33,
   "id": "1fa784d5",
   "metadata": {},
   "outputs": [
    {
     "data": {
      "text/plain": [
       "(1885, 32)"
      ]
     },
     "execution_count": 33,
     "metadata": {},
     "output_type": "execute_result"
    }
   ],
   "source": [
    "df.shape"
   ]
  },
  {
   "cell_type": "markdown",
   "id": "04771bf7",
   "metadata": {},
   "source": [
    "Having a look at some simple, descriptive statistics "
   ]
  },
  {
   "cell_type": "code",
   "execution_count": 34,
   "id": "6bdb5751",
   "metadata": {},
   "outputs": [
    {
     "data": {
      "text/html": [
       "<div>\n",
       "<style scoped>\n",
       "    .dataframe tbody tr th:only-of-type {\n",
       "        vertical-align: middle;\n",
       "    }\n",
       "\n",
       "    .dataframe tbody tr th {\n",
       "        vertical-align: top;\n",
       "    }\n",
       "\n",
       "    .dataframe thead th {\n",
       "        text-align: right;\n",
       "    }\n",
       "</style>\n",
       "<table border=\"1\" class=\"dataframe\">\n",
       "  <thead>\n",
       "    <tr style=\"text-align: right;\">\n",
       "      <th></th>\n",
       "      <th>ID</th>\n",
       "      <th>Age</th>\n",
       "      <th>Gender</th>\n",
       "      <th>Education</th>\n",
       "      <th>Country</th>\n",
       "      <th>Ethnicity</th>\n",
       "      <th>Nscore</th>\n",
       "      <th>Escore</th>\n",
       "      <th>Oscore</th>\n",
       "      <th>Ascore</th>\n",
       "      <th>Cscore</th>\n",
       "      <th>Impulsive</th>\n",
       "      <th>SS</th>\n",
       "    </tr>\n",
       "  </thead>\n",
       "  <tbody>\n",
       "    <tr>\n",
       "      <th>count</th>\n",
       "      <td>1885.00</td>\n",
       "      <td>1885.00</td>\n",
       "      <td>1885.00</td>\n",
       "      <td>1885.00</td>\n",
       "      <td>1885.00</td>\n",
       "      <td>1885.00</td>\n",
       "      <td>1885.00</td>\n",
       "      <td>1885.00</td>\n",
       "      <td>1885.00</td>\n",
       "      <td>1885.00</td>\n",
       "      <td>1885.00</td>\n",
       "      <td>1885.00</td>\n",
       "      <td>1885.00</td>\n",
       "    </tr>\n",
       "    <tr>\n",
       "      <th>mean</th>\n",
       "      <td>945.29</td>\n",
       "      <td>0.03</td>\n",
       "      <td>-0.00</td>\n",
       "      <td>-0.00</td>\n",
       "      <td>0.36</td>\n",
       "      <td>-0.31</td>\n",
       "      <td>0.00</td>\n",
       "      <td>-0.00</td>\n",
       "      <td>-0.00</td>\n",
       "      <td>-0.00</td>\n",
       "      <td>-0.00</td>\n",
       "      <td>0.01</td>\n",
       "      <td>-0.00</td>\n",
       "    </tr>\n",
       "    <tr>\n",
       "      <th>std</th>\n",
       "      <td>545.17</td>\n",
       "      <td>0.88</td>\n",
       "      <td>0.48</td>\n",
       "      <td>0.95</td>\n",
       "      <td>0.70</td>\n",
       "      <td>0.17</td>\n",
       "      <td>1.00</td>\n",
       "      <td>1.00</td>\n",
       "      <td>1.00</td>\n",
       "      <td>1.00</td>\n",
       "      <td>1.00</td>\n",
       "      <td>0.95</td>\n",
       "      <td>0.96</td>\n",
       "    </tr>\n",
       "    <tr>\n",
       "      <th>min</th>\n",
       "      <td>1.00</td>\n",
       "      <td>-0.95</td>\n",
       "      <td>-0.48</td>\n",
       "      <td>-2.44</td>\n",
       "      <td>-0.57</td>\n",
       "      <td>-1.11</td>\n",
       "      <td>-3.46</td>\n",
       "      <td>-3.27</td>\n",
       "      <td>-3.27</td>\n",
       "      <td>-3.46</td>\n",
       "      <td>-3.46</td>\n",
       "      <td>-2.56</td>\n",
       "      <td>-2.08</td>\n",
       "    </tr>\n",
       "    <tr>\n",
       "      <th>25%</th>\n",
       "      <td>474.00</td>\n",
       "      <td>-0.95</td>\n",
       "      <td>-0.48</td>\n",
       "      <td>-0.61</td>\n",
       "      <td>-0.57</td>\n",
       "      <td>-0.32</td>\n",
       "      <td>-0.68</td>\n",
       "      <td>-0.70</td>\n",
       "      <td>-0.72</td>\n",
       "      <td>-0.61</td>\n",
       "      <td>-0.65</td>\n",
       "      <td>-0.71</td>\n",
       "      <td>-0.53</td>\n",
       "    </tr>\n",
       "    <tr>\n",
       "      <th>50%</th>\n",
       "      <td>946.00</td>\n",
       "      <td>-0.08</td>\n",
       "      <td>-0.48</td>\n",
       "      <td>-0.06</td>\n",
       "      <td>0.96</td>\n",
       "      <td>-0.32</td>\n",
       "      <td>0.04</td>\n",
       "      <td>0.00</td>\n",
       "      <td>-0.02</td>\n",
       "      <td>-0.02</td>\n",
       "      <td>-0.01</td>\n",
       "      <td>-0.22</td>\n",
       "      <td>0.08</td>\n",
       "    </tr>\n",
       "    <tr>\n",
       "      <th>75%</th>\n",
       "      <td>1417.00</td>\n",
       "      <td>0.50</td>\n",
       "      <td>0.48</td>\n",
       "      <td>0.45</td>\n",
       "      <td>0.96</td>\n",
       "      <td>-0.32</td>\n",
       "      <td>0.63</td>\n",
       "      <td>0.64</td>\n",
       "      <td>0.72</td>\n",
       "      <td>0.76</td>\n",
       "      <td>0.58</td>\n",
       "      <td>0.53</td>\n",
       "      <td>0.77</td>\n",
       "    </tr>\n",
       "    <tr>\n",
       "      <th>max</th>\n",
       "      <td>1888.00</td>\n",
       "      <td>2.59</td>\n",
       "      <td>0.48</td>\n",
       "      <td>1.98</td>\n",
       "      <td>0.96</td>\n",
       "      <td>1.91</td>\n",
       "      <td>3.27</td>\n",
       "      <td>3.27</td>\n",
       "      <td>2.90</td>\n",
       "      <td>3.46</td>\n",
       "      <td>3.46</td>\n",
       "      <td>2.90</td>\n",
       "      <td>1.92</td>\n",
       "    </tr>\n",
       "  </tbody>\n",
       "</table>\n",
       "</div>"
      ],
      "text/plain": [
       "            ID      Age   Gender  Education  Country  Ethnicity   Nscore  \\\n",
       "count  1885.00  1885.00  1885.00    1885.00  1885.00    1885.00  1885.00   \n",
       "mean    945.29     0.03    -0.00      -0.00     0.36      -0.31     0.00   \n",
       "std     545.17     0.88     0.48       0.95     0.70       0.17     1.00   \n",
       "min       1.00    -0.95    -0.48      -2.44    -0.57      -1.11    -3.46   \n",
       "25%     474.00    -0.95    -0.48      -0.61    -0.57      -0.32    -0.68   \n",
       "50%     946.00    -0.08    -0.48      -0.06     0.96      -0.32     0.04   \n",
       "75%    1417.00     0.50     0.48       0.45     0.96      -0.32     0.63   \n",
       "max    1888.00     2.59     0.48       1.98     0.96       1.91     3.27   \n",
       "\n",
       "        Escore   Oscore   Ascore   Cscore  Impulsive       SS  \n",
       "count  1885.00  1885.00  1885.00  1885.00    1885.00  1885.00  \n",
       "mean     -0.00    -0.00    -0.00    -0.00       0.01    -0.00  \n",
       "std       1.00     1.00     1.00     1.00       0.95     0.96  \n",
       "min      -3.27    -3.27    -3.46    -3.46      -2.56    -2.08  \n",
       "25%      -0.70    -0.72    -0.61    -0.65      -0.71    -0.53  \n",
       "50%       0.00    -0.02    -0.02    -0.01      -0.22     0.08  \n",
       "75%       0.64     0.72     0.76     0.58       0.53     0.77  \n",
       "max       3.27     2.90     3.46     3.46       2.90     1.92  "
      ]
     },
     "execution_count": 34,
     "metadata": {},
     "output_type": "execute_result"
    }
   ],
   "source": [
    "# Having a look at some simple, descriptive statistics \n",
    "df.describe().round(2)"
   ]
  },
  {
   "cell_type": "markdown",
   "id": "72ce2ecb",
   "metadata": {},
   "source": [
    "Remove the \"Index\" column from the data set:"
   ]
  },
  {
   "cell_type": "code",
   "execution_count": 35,
   "id": "47c4aa46",
   "metadata": {},
   "outputs": [
    {
     "data": {
      "text/html": [
       "<div>\n",
       "<style scoped>\n",
       "    .dataframe tbody tr th:only-of-type {\n",
       "        vertical-align: middle;\n",
       "    }\n",
       "\n",
       "    .dataframe tbody tr th {\n",
       "        vertical-align: top;\n",
       "    }\n",
       "\n",
       "    .dataframe thead th {\n",
       "        text-align: right;\n",
       "    }\n",
       "</style>\n",
       "<table border=\"1\" class=\"dataframe\">\n",
       "  <thead>\n",
       "    <tr style=\"text-align: right;\">\n",
       "      <th></th>\n",
       "      <th>Amount</th>\n",
       "      <th>Percentage</th>\n",
       "    </tr>\n",
       "  </thead>\n",
       "  <tbody>\n",
       "  </tbody>\n",
       "</table>\n",
       "</div>"
      ],
      "text/plain": [
       "Empty DataFrame\n",
       "Columns: [Amount, Percentage]\n",
       "Index: []"
      ]
     },
     "execution_count": 35,
     "metadata": {},
     "output_type": "execute_result"
    }
   ],
   "source": [
    "# Checking for missing values\n",
    "missing = pd.DataFrame(df.isnull().sum(), columns=[\"Amount\"])\n",
    "missing['Percentage'] = round((missing['Amount']/df.shape[0])*100, 2)\n",
    "missing[missing['Amount'] != 0]"
   ]
  },
  {
   "cell_type": "markdown",
   "id": "83696089",
   "metadata": {},
   "source": [
    "As a result we do NOT have missing entries ANYWHERE!"
   ]
  },
  {
   "cell_type": "markdown",
   "id": "12bdafba",
   "metadata": {},
   "source": [
    "Preliminary findings: We have 12 float64 columns, 1 int64 and 19 object columns. As a next step I would  like to transform the object columns with dummy variables:"
   ]
  },
  {
   "cell_type": "markdown",
   "id": "8901c3c2",
   "metadata": {},
   "source": [
    "Prepare a pipeline by creating lists of all categorical AND numerical predictors in the data set:"
   ]
  },
  {
   "cell_type": "code",
   "execution_count": 36,
   "id": "de6dd2f4",
   "metadata": {},
   "outputs": [
    {
     "data": {
      "text/plain": [
       "['Alcohol',\n",
       " 'Amphet',\n",
       " 'Amyl',\n",
       " 'Benzos',\n",
       " 'Caff',\n",
       " 'Cannabis',\n",
       " 'Choc',\n",
       " 'Coke',\n",
       " 'Crack',\n",
       " 'Ecstasy',\n",
       " 'Heroin',\n",
       " 'Ketamine',\n",
       " 'Legalh',\n",
       " 'LSD',\n",
       " 'Meth',\n",
       " 'Shrooms',\n",
       " 'Nicotine',\n",
       " 'Semer',\n",
       " 'VSA']"
      ]
     },
     "execution_count": 36,
     "metadata": {},
     "output_type": "execute_result"
    }
   ],
   "source": [
    "# Creating list for categorical predictors/features \n",
    "# (dates are also objects so if you have them in your data you would deal with them first)\n",
    "cat_features = list(df.columns[df.dtypes==object])\n",
    "cat_features"
   ]
  },
  {
   "cell_type": "code",
   "execution_count": 37,
   "id": "fd992460",
   "metadata": {},
   "outputs": [
    {
     "data": {
      "text/plain": [
       "['ID',\n",
       " 'Age',\n",
       " 'Gender',\n",
       " 'Education',\n",
       " 'Country',\n",
       " 'Ethnicity',\n",
       " 'Nscore',\n",
       " 'Escore',\n",
       " 'Oscore',\n",
       " 'Ascore',\n",
       " 'Cscore',\n",
       " 'Impulsive',\n",
       " 'SS']"
      ]
     },
     "execution_count": 37,
     "metadata": {},
     "output_type": "execute_result"
    }
   ],
   "source": [
    "# Creating list for numerical predictors/features\n",
    "# Since 'Survived' is our target variable we will exclude this feature from this list of numerical predictors \n",
    "num_features = list(df.columns[df.dtypes!=object])\n",
    "#num_features.remove('Survived')\n",
    "num_features"
   ]
  },
  {
   "cell_type": "markdown",
   "id": "1f830838",
   "metadata": {},
   "source": [
    "Define predictors and variables:"
   ]
  },
  {
   "cell_type": "code",
   "execution_count": 38,
   "id": "25c3d69a",
   "metadata": {},
   "outputs": [
    {
     "name": "stdout",
     "output_type": "stream",
     "text": [
      "We have 1885 observations in our dataset and 31 features\n",
      "Our target vector has also 1885 values\n"
     ]
    }
   ],
   "source": [
    "# Define predictors and target variable\n",
    "X = df.drop('Age', axis=1)\n",
    "y = df['Age']\n",
    "print(f\"We have {X.shape[0]} observations in our dataset and {X.shape[1]} features\")\n",
    "print(f\"Our target vector has also {y.shape[0]} values\")"
   ]
  },
  {
   "cell_type": "code",
   "execution_count": 39,
   "id": "436a5569",
   "metadata": {},
   "outputs": [],
   "source": [
    "# Split into train and test set \n",
    "X_train, X_test, y_train, y_test = train_test_split(X, y, test_size=0.2, random_state=RSEED)"
   ]
  },
  {
   "cell_type": "code",
   "execution_count": 40,
   "id": "0b953d8e",
   "metadata": {},
   "outputs": [
    {
     "name": "stdout",
     "output_type": "stream",
     "text": [
      "X_train shape: (1508, 31)\n",
      "X_test shape: (377, 31)\n",
      "y_train shape: (1508,)\n",
      "y_test shape: (377,)\n"
     ]
    }
   ],
   "source": [
    "print('X_train shape:', X_train.shape)\n",
    "print('X_test shape:', X_test.shape)\n",
    "print('y_train shape:', y_train.shape)\n",
    "print('y_test shape:', y_test.shape)"
   ]
  },
  {
   "cell_type": "code",
   "execution_count": 41,
   "id": "a1308dc6",
   "metadata": {},
   "outputs": [
    {
     "name": "stderr",
     "output_type": "stream",
     "text": [
      "/Users/borisgeller/neuefische/Drug-Consumption/.venv/lib/python3.8/site-packages/seaborn/_decorators.py:36: FutureWarning: Pass the following variables as keyword args: x, y. From version 0.12, the only valid positional argument will be `data`, and passing other arguments without an explicit keyword will result in an error or misinterpretation.\n",
      "  warnings.warn(\n"
     ]
    },
    {
     "data": {
      "text/plain": [
       "<seaborn.axisgrid.JointGrid at 0x130464dc0>"
      ]
     },
     "execution_count": 41,
     "metadata": {},
     "output_type": "execute_result"
    },
    {
     "data": {
      "text/plain": [
       "<Figure size 1440x1440 with 0 Axes>"
      ]
     },
     "metadata": {},
     "output_type": "display_data"
    },
    {
     "data": {
      "image/png": "[encoded data removed]",
      "text/plain": [
       "<Figure size 432x432 with 3 Axes>"
      ]
     },
     "metadata": {
      "needs_background": "light"
     },
     "output_type": "display_data"
    }
   ],
   "source": [
    "# Your code here!\n",
    "fig = plt.figure(figsize= (20,20))\n",
    "sns.jointplot(df[\"Age\"],df.Amphet, hue=None)"
   ]
  },
  {
   "cell_type": "code",
   "execution_count": 42,
   "id": "b6fc99a9",
   "metadata": {},
   "outputs": [
    {
     "data": {
      "text/plain": [
       "<AxesSubplot:xlabel='Amphet', ylabel='Count'>"
      ]
     },
     "execution_count": 42,
     "metadata": {},
     "output_type": "execute_result"
    },
    {
     "data": {
      "image/png": "[encoded data removed]",
      "text/plain": [
       "<Figure size 1440x1440 with 1 Axes>"
      ]
     },
     "metadata": {
      "needs_background": "light"
     },
     "output_type": "display_data"
    }
   ],
   "source": [
    "# Your code here!\n",
    "fig = plt.figure(figsize= (20,20))\n",
    "sns.histplot(df.Amphet, hue=None)\n"
   ]
  },
  {
   "cell_type": "code",
   "execution_count": 43,
   "id": "fc42065c",
   "metadata": {},
   "outputs": [
    {
     "data": {
      "text/plain": [
       "Amphet\n",
       "CL0    AxesSubplot(0.125,0.125;0.775x0.755)\n",
       "CL1    AxesSubplot(0.125,0.125;0.775x0.755)\n",
       "CL2    AxesSubplot(0.125,0.125;0.775x0.755)\n",
       "CL3    AxesSubplot(0.125,0.125;0.775x0.755)\n",
       "CL4    AxesSubplot(0.125,0.125;0.775x0.755)\n",
       "CL5    AxesSubplot(0.125,0.125;0.775x0.755)\n",
       "CL6    AxesSubplot(0.125,0.125;0.775x0.755)\n",
       "Name: Age, dtype: object"
      ]
     },
     "execution_count": 43,
     "metadata": {},
     "output_type": "execute_result"
    },
    {
     "data": {
      "image/png": "[encoded data removed]",
      "text/plain": [
       "<Figure size 432x288 with 1 Axes>"
      ]
     },
     "metadata": {
      "needs_background": "light"
     },
     "output_type": "display_data"
    }
   ],
   "source": [
    "# Your code here!\n",
    "df.groupby(\"Amphet\")[\"Age\"].hist()"
   ]
  },
  {
   "cell_type": "code",
   "execution_count": 44,
   "id": "0f5f25e9",
   "metadata": {},
   "outputs": [
    {
     "data": {
      "image/png": "[encoded data removed]",
      "text/plain": [
       "<Figure size 432x288 with 1 Axes>"
      ]
     },
     "metadata": {
      "needs_background": "light"
     },
     "output_type": "display_data"
    }
   ],
   "source": [
    "ax = df.groupby(\"Amphet\")[\"Age\"].plot.hist(bins=12, alpha=0.5)"
   ]
  },
  {
   "cell_type": "markdown",
   "id": "e104b050",
   "metadata": {},
   "source": [
    "Duplicate the Dataframe to perform some column conversions to make it more readable"
   ]
  },
  {
   "cell_type": "code",
   "execution_count": 45,
   "id": "d086601d",
   "metadata": {},
   "outputs": [],
   "source": [
    "df_readable = df.copy()"
   ]
  },
  {
   "cell_type": "markdown",
   "id": "92f2fb9b",
   "metadata": {},
   "source": [
    "Decrypt some of the Feature columns to make them more human-readable:"
   ]
  },
  {
   "cell_type": "code",
   "execution_count": 46,
   "id": "f47ffd2a",
   "metadata": {},
   "outputs": [],
   "source": [
    "# decrypt \"Age\" column:\n",
    "df_readable['Age'] = df_readable['Age'].map({-0.95197:'18-24',\n",
    "                            -0.07854:'25-34',\n",
    "                             0.49788:'35-44',\n",
    "                             1.09449:'45-54',\n",
    "                             1.82213:'55-64',\n",
    "                             2.59171:'65+',\n",
    "                             },)\n",
    "# decrypt \"Gender\" column:\n",
    "df_readable['Gender'] = df_readable['Gender'].map({0.48246:'Female',\n",
    "                            -0.48246:'Male',\n",
    "                             },)\n",
    "# decrypt \"Education\" column:\n",
    "df_readable['Education'] = df_readable['Education'].map({-2.43591:'Left school before 16 years',\n",
    "                            -1.73790:'Left school at 16 years',\n",
    "                            -1.43719:'Left school at 17 years',\n",
    "                            -1.22751:'Left school at 18 years',\n",
    "                            -0.61113:'Some college or university, no certificate or degree',\n",
    "                            -0.05921:'Professional certificate/ diploma',\n",
    "                             0.45468:'University degree',\n",
    "                             1.16365:'Masters degree',\n",
    "                             1.98437:'Doctorate degree',\n",
    "                             },)\n",
    "# decrypt \"Ethnicity\" column:\n",
    "df_readable['Ethnicity'] = df_readable['Ethnicity'].map({-0.50212:'Asian',\n",
    "                            -1.10702:'Black',\n",
    "                             1.90725:'Mixed-Black/Asian',\n",
    "                             0.12600:'Mixed-White/Asian',\n",
    "                            -0.22166:'Mixed-White/Black',\n",
    "                             0.11440:'Other',\n",
    "                            -0.31685:'White',\n",
    "                             },)\n",
    "# replace column values with country names\n",
    "df_readable['Country'] = df_readable['Country'].map({-0.09765:'Australia',\n",
    "                             0.24923:'Canada',\n",
    "                            -0.46841:'New Zealand',\n",
    "                            -0.28519: \"Other\",\n",
    "                             0.21128:\"Republic of Ireland\",\n",
    "                             0.96082:\"UK\",\n",
    "                            -0.57009:\"USA\",\n",
    "                             },)\n",
    "\n",
    "#df_readable.tail(15)"
   ]
  },
  {
   "cell_type": "code",
   "execution_count": 47,
   "id": "4463e675",
   "metadata": {},
   "outputs": [
    {
     "data": {
      "image/png": "[encoded data removed]",
      "text/plain": [
       "<Figure size 936x936 with 1 Axes>"
      ]
     },
     "metadata": {},
     "output_type": "display_data"
    }
   ],
   "source": [
    "plt.figure(figsize=(13,13));\n",
    "plt.rcParams.update({'font.size':16})\n",
    "x = df_readable[\"Country\"].value_counts()#.plot(kind='pie')\n",
    "labels= x.index.to_list()\n",
    "plt.title('Study recipients countries of Origin:')\n",
    "plt.pie(x,explode=(0,0.1,0,0.1,0,0.5,0),labels=labels, autopct='%1.2f%%')\n",
    "plt.savefig('pictures/Study_recipients_countries_of_Origin.png', transparent=True)\n",
    "plt.show()"
   ]
  },
  {
   "cell_type": "code",
   "execution_count": 48,
   "id": "3547cb99",
   "metadata": {},
   "outputs": [
    {
     "data": {
      "text/plain": [
       "['UK',\n",
       " 'USA',\n",
       " 'Other',\n",
       " 'Canada',\n",
       " 'Australia',\n",
       " 'Republic of Ireland',\n",
       " 'New Zealand']"
      ]
     },
     "execution_count": 48,
     "metadata": {},
     "output_type": "execute_result"
    }
   ],
   "source": [
    "x.index.to_list()"
   ]
  },
  {
   "cell_type": "code",
   "execution_count": 49,
   "id": "0837f5be",
   "metadata": {},
   "outputs": [
    {
     "data": {
      "image/png": "[encoded data removed]",
      "text/plain": [
       "<Figure size 936x936 with 1 Axes>"
      ]
     },
     "metadata": {},
     "output_type": "display_data"
    }
   ],
   "source": [
    "plt.figure(figsize=(13,13));\n",
    "plt.rcParams.update({'font.size':16})\n",
    "x = df_readable[\"Ethnicity\"].value_counts()\n",
    "labels= x.index.to_list()\n",
    "plt.title(\"Study recipients' Ethnicity:\")\n",
    "plt.pie(x,explode=(0,0.1,0,0.1,0,0.2,0.5),labels=labels, autopct='%1.2f%%')\n",
    "plt.savefig('pictures/Study_recipients_ethnicity.png', transparent=True)\n",
    "plt.show()"
   ]
  },
  {
   "cell_type": "code",
   "execution_count": 50,
   "id": "f84472c1",
   "metadata": {},
   "outputs": [
    {
     "name": "stderr",
     "output_type": "stream",
     "text": [
      "/Users/borisgeller/neuefische/Drug-Consumption/.venv/lib/python3.8/site-packages/seaborn/_decorators.py:36: FutureWarning: Pass the following variables as keyword args: x, y. From version 0.12, the only valid positional argument will be `data`, and passing other arguments without an explicit keyword will result in an error or misinterpretation.\n",
      "  warnings.warn(\n"
     ]
    },
    {
     "data": {
      "text/plain": [
       "<Figure size 2160x2160 with 0 Axes>"
      ]
     },
     "metadata": {},
     "output_type": "display_data"
    },
    {
     "data": {
      "image/png": "[encoded data removed]",
      "text/plain": [
       "<Figure size 432x432 with 3 Axes>"
      ]
     },
     "metadata": {
      "needs_background": "light"
     },
     "output_type": "display_data"
    }
   ],
   "source": [
    "fig = plt.figure(figsize= (30,30))\n",
    "labels = df_readable[\"Country\"].value_counts().index.to_list()\n",
    "\n",
    "g = sns.jointplot(df[\"Age\"],df.Amphet, hue=None);\n",
    "# Show the plot\n"
   ]
  },
  {
   "cell_type": "code",
   "execution_count": 51,
   "id": "5063f71a",
   "metadata": {},
   "outputs": [
    {
     "data": {
      "image/png": "[encoded data removed]",
      "text/plain": [
       "<Figure size 432x288 with 1 Axes>"
      ]
     },
     "metadata": {
      "needs_background": "light"
     },
     "output_type": "display_data"
    }
   ],
   "source": [
    "ax = df_readable.groupby(\"Amphet\", axis=0)[\"Age\"].value_counts().plot.hist(bins=7, alpha=0.5)"
   ]
  },
  {
   "cell_type": "code",
   "execution_count": null,
   "id": "d4e67655",
   "metadata": {},
   "outputs": [],
   "source": []
  },
  {
   "cell_type": "code",
   "execution_count": 28,
   "id": "fd086116",
   "metadata": {},
   "outputs": [
    {
     "data": {
      "text/html": [
       "<div>\n",
       "<style scoped>\n",
       "    .dataframe tbody tr th:only-of-type {\n",
       "        vertical-align: middle;\n",
       "    }\n",
       "\n",
       "    .dataframe tbody tr th {\n",
       "        vertical-align: top;\n",
       "    }\n",
       "\n",
       "    .dataframe thead th {\n",
       "        text-align: right;\n",
       "    }\n",
       "</style>\n",
       "<table border=\"1\" class=\"dataframe\">\n",
       "  <thead>\n",
       "    <tr style=\"text-align: right;\">\n",
       "      <th></th>\n",
       "      <th>ID</th>\n",
       "      <th>Age</th>\n",
       "      <th>Gender</th>\n",
       "      <th>Education</th>\n",
       "      <th>Country</th>\n",
       "      <th>Ethnicity</th>\n",
       "      <th>Nscore</th>\n",
       "      <th>Escore</th>\n",
       "      <th>Oscore</th>\n",
       "      <th>Ascore</th>\n",
       "      <th>...</th>\n",
       "      <th>Ecstasy</th>\n",
       "      <th>Heroin</th>\n",
       "      <th>Ketamine</th>\n",
       "      <th>Legalh</th>\n",
       "      <th>LSD</th>\n",
       "      <th>Meth</th>\n",
       "      <th>Shrooms</th>\n",
       "      <th>Nicotine</th>\n",
       "      <th>Semer</th>\n",
       "      <th>VSA</th>\n",
       "    </tr>\n",
       "  </thead>\n",
       "  <tbody>\n",
       "    <tr>\n",
       "      <th>0</th>\n",
       "      <td>1</td>\n",
       "      <td>35-44</td>\n",
       "      <td>Female</td>\n",
       "      <td>Professional certificate/ diploma</td>\n",
       "      <td>UK</td>\n",
       "      <td>Mixed-White/Asian</td>\n",
       "      <td>0.31287</td>\n",
       "      <td>-0.57545</td>\n",
       "      <td>-0.58331</td>\n",
       "      <td>-0.91699</td>\n",
       "      <td>...</td>\n",
       "      <td>CL0</td>\n",
       "      <td>CL0</td>\n",
       "      <td>CL0</td>\n",
       "      <td>CL0</td>\n",
       "      <td>CL0</td>\n",
       "      <td>CL0</td>\n",
       "      <td>CL0</td>\n",
       "      <td>CL2</td>\n",
       "      <td>CL0</td>\n",
       "      <td>CL0</td>\n",
       "    </tr>\n",
       "    <tr>\n",
       "      <th>1</th>\n",
       "      <td>2</td>\n",
       "      <td>25-34</td>\n",
       "      <td>Male</td>\n",
       "      <td>Doctorate degree</td>\n",
       "      <td>UK</td>\n",
       "      <td>White</td>\n",
       "      <td>-0.67825</td>\n",
       "      <td>1.93886</td>\n",
       "      <td>1.43533</td>\n",
       "      <td>0.76096</td>\n",
       "      <td>...</td>\n",
       "      <td>CL4</td>\n",
       "      <td>CL0</td>\n",
       "      <td>CL2</td>\n",
       "      <td>CL0</td>\n",
       "      <td>CL2</td>\n",
       "      <td>CL3</td>\n",
       "      <td>CL0</td>\n",
       "      <td>CL4</td>\n",
       "      <td>CL0</td>\n",
       "      <td>CL0</td>\n",
       "    </tr>\n",
       "    <tr>\n",
       "      <th>2</th>\n",
       "      <td>3</td>\n",
       "      <td>35-44</td>\n",
       "      <td>Male</td>\n",
       "      <td>Professional certificate/ diploma</td>\n",
       "      <td>UK</td>\n",
       "      <td>White</td>\n",
       "      <td>-0.46725</td>\n",
       "      <td>0.80523</td>\n",
       "      <td>-0.84732</td>\n",
       "      <td>-1.62090</td>\n",
       "      <td>...</td>\n",
       "      <td>CL0</td>\n",
       "      <td>CL0</td>\n",
       "      <td>CL0</td>\n",
       "      <td>CL0</td>\n",
       "      <td>CL0</td>\n",
       "      <td>CL0</td>\n",
       "      <td>CL1</td>\n",
       "      <td>CL0</td>\n",
       "      <td>CL0</td>\n",
       "      <td>CL0</td>\n",
       "    </tr>\n",
       "    <tr>\n",
       "      <th>3</th>\n",
       "      <td>4</td>\n",
       "      <td>18-24</td>\n",
       "      <td>Female</td>\n",
       "      <td>Masters degree</td>\n",
       "      <td>UK</td>\n",
       "      <td>White</td>\n",
       "      <td>-0.14882</td>\n",
       "      <td>-0.80615</td>\n",
       "      <td>-0.01928</td>\n",
       "      <td>0.59042</td>\n",
       "      <td>...</td>\n",
       "      <td>CL0</td>\n",
       "      <td>CL0</td>\n",
       "      <td>CL2</td>\n",
       "      <td>CL0</td>\n",
       "      <td>CL0</td>\n",
       "      <td>CL0</td>\n",
       "      <td>CL0</td>\n",
       "      <td>CL2</td>\n",
       "      <td>CL0</td>\n",
       "      <td>CL0</td>\n",
       "    </tr>\n",
       "    <tr>\n",
       "      <th>4</th>\n",
       "      <td>5</td>\n",
       "      <td>35-44</td>\n",
       "      <td>Female</td>\n",
       "      <td>Doctorate degree</td>\n",
       "      <td>UK</td>\n",
       "      <td>White</td>\n",
       "      <td>0.73545</td>\n",
       "      <td>-1.63340</td>\n",
       "      <td>-0.45174</td>\n",
       "      <td>-0.30172</td>\n",
       "      <td>...</td>\n",
       "      <td>CL1</td>\n",
       "      <td>CL0</td>\n",
       "      <td>CL0</td>\n",
       "      <td>CL1</td>\n",
       "      <td>CL0</td>\n",
       "      <td>CL0</td>\n",
       "      <td>CL2</td>\n",
       "      <td>CL2</td>\n",
       "      <td>CL0</td>\n",
       "      <td>CL0</td>\n",
       "    </tr>\n",
       "  </tbody>\n",
       "</table>\n",
       "<p>5 rows × 32 columns</p>\n",
       "</div>"
      ],
      "text/plain": [
       "   ID    Age  Gender                          Education Country  \\\n",
       "0   1  35-44  Female  Professional certificate/ diploma      UK   \n",
       "1   2  25-34    Male                   Doctorate degree      UK   \n",
       "2   3  35-44    Male  Professional certificate/ diploma      UK   \n",
       "3   4  18-24  Female                     Masters degree      UK   \n",
       "4   5  35-44  Female                   Doctorate degree      UK   \n",
       "\n",
       "           Ethnicity   Nscore   Escore   Oscore   Ascore  ...  Ecstasy  \\\n",
       "0  Mixed-White/Asian  0.31287 -0.57545 -0.58331 -0.91699  ...      CL0   \n",
       "1              White -0.67825  1.93886  1.43533  0.76096  ...      CL4   \n",
       "2              White -0.46725  0.80523 -0.84732 -1.62090  ...      CL0   \n",
       "3              White -0.14882 -0.80615 -0.01928  0.59042  ...      CL0   \n",
       "4              White  0.73545 -1.63340 -0.45174 -0.30172  ...      CL1   \n",
       "\n",
       "   Heroin  Ketamine Legalh  LSD Meth Shrooms Nicotine Semer  VSA  \n",
       "0     CL0       CL0    CL0  CL0  CL0     CL0      CL2   CL0  CL0  \n",
       "1     CL0       CL2    CL0  CL2  CL3     CL0      CL4   CL0  CL0  \n",
       "2     CL0       CL0    CL0  CL0  CL0     CL1      CL0   CL0  CL0  \n",
       "3     CL0       CL2    CL0  CL0  CL0     CL0      CL2   CL0  CL0  \n",
       "4     CL0       CL0    CL1  CL0  CL0     CL2      CL2   CL0  CL0  \n",
       "\n",
       "[5 rows x 32 columns]"
      ]
     },
     "execution_count": 28,
     "metadata": {},
     "output_type": "execute_result"
    }
   ],
   "source": [
    "df.head()"
   ]
  },
  {
   "cell_type": "code",
   "execution_count": null,
   "id": "8efb3f5a",
   "metadata": {},
   "outputs": [],
   "source": []
  }
 ],
 "metadata": {
  "kernelspec": {
   "display_name": "Python 3",
   "language": "python",
   "name": "python3"
  },
  "language_info": {
   "codemirror_mode": {
    "name": "ipython",
    "version": 3
   },
   "file_extension": ".py",
   "mimetype": "text/x-python",
   "name": "python",
   "nbconvert_exporter": "python",
   "pygments_lexer": "ipython3",
   "version": "3.8.5"
  }
 },
 "nbformat": 4,
 "nbformat_minor": 5
}
